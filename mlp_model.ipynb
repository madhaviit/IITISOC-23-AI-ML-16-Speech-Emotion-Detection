{
  "metadata": {
    "kernelspec": {
      "language": "python",
      "display_name": "Python 3",
      "name": "python3"
    },
    "language_info": {
      "name": "python",
      "version": "3.10.10",
      "mimetype": "text/x-python",
      "codemirror_mode": {
        "name": "ipython",
        "version": 3
      },
      "pygments_lexer": "ipython3",
      "nbconvert_exporter": "python",
      "file_extension": ".py"
    },
    "colab": {
      "provenance": []
    }
  },
  "nbformat_minor": 0,
  "nbformat": 4,
  "cells": [
    {
      "cell_type": "code",
      "source": [
        "import numpy as np\n",
        "import pandas as pd\n",
        "import matplotlib.pyplot as plt\n",
        "import librosa\n",
        "import librosa.display\n",
        "from IPython.display import Audio\n",
        "import soundfile\n",
        "import os, glob, pickle\n",
        "import random\n",
        "from sklearn.utils import shuffle\n",
        "from sklearn.preprocessing import OneHotEncoder\n",
        "from sklearn.model_selection import train_test_split\n",
        "from sklearn.preprocessing import StandardScaler\n",
        "import keras\n",
        "from keras.callbacks import ReduceLROnPlateau\n",
        "from keras.models import Sequential\n",
        "from keras.layers import Dense, Conv1D, MaxPooling1D, Flatten, Dropout, BatchNormalization\n",
        "from keras.utils import np_utils, to_categorical\n",
        "from keras.callbacks import ModelCheckpoint\n",
        "from sklearn.metrics import confusion_matrix\n",
        "import seaborn as sns"
      ],
      "metadata": {
        "_uuid": "8f2839f25d086af736a60e9eeb907d3b93b6e0e5",
        "_cell_guid": "b1076dfc-b9ad-4769-8c92-a6c4dae69d19",
        "execution": {
          "iopub.status.busy": "2023-06-29T03:07:36.279982Z",
          "iopub.execute_input": "2023-06-29T03:07:36.280385Z",
          "iopub.status.idle": "2023-06-29T03:07:36.288104Z",
          "shell.execute_reply.started": "2023-06-29T03:07:36.280353Z",
          "shell.execute_reply": "2023-06-29T03:07:36.286974Z"
        },
        "trusted": true,
        "id": "q8OOebd9Pb83"
      },
      "execution_count": null,
      "outputs": []
    },
    {
      "cell_type": "code",
      "source": [
        "# Preparing the Dataset\n",
        "features = pd.read_csv(\"/kaggle/input/finalfeatures/features11.csv\") #Path of your the csv file\n",
        "X = features.iloc[:,:-1].values\n",
        "Y = features.iloc[:,-1].values"
      ],
      "metadata": {
        "execution": {
          "iopub.status.busy": "2023-06-29T03:07:36.290609Z",
          "iopub.execute_input": "2023-06-29T03:07:36.290962Z",
          "iopub.status.idle": "2023-06-29T03:07:38.204945Z",
          "shell.execute_reply.started": "2023-06-29T03:07:36.290930Z",
          "shell.execute_reply": "2023-06-29T03:07:38.203793Z"
        },
        "trusted": true,
        "id": "dpJJaNM_Pb85"
      },
      "execution_count": null,
      "outputs": []
    },
    {
      "cell_type": "code",
      "source": [
        "#Encoding the dependent variable\n",
        "encoder = OneHotEncoder()\n",
        "Y = encoder.fit_transform(np.array(Y).reshape(-1,1)).toarray()"
      ],
      "metadata": {
        "execution": {
          "iopub.status.busy": "2023-06-29T03:07:38.206511Z",
          "iopub.execute_input": "2023-06-29T03:07:38.207132Z",
          "iopub.status.idle": "2023-06-29T03:07:38.229760Z",
          "shell.execute_reply.started": "2023-06-29T03:07:38.207095Z",
          "shell.execute_reply": "2023-06-29T03:07:38.228755Z"
        },
        "trusted": true,
        "id": "de9_Wp6rPb85"
      },
      "execution_count": null,
      "outputs": []
    },
    {
      "cell_type": "code",
      "source": [
        "# Splitting data\n",
        "x_train, x_test, y_train, y_test = train_test_split(X, Y, random_state=42, shuffle=True)\n",
        "x_train.shape, y_train.shape, x_test.shape, y_test.shape"
      ],
      "metadata": {
        "execution": {
          "iopub.status.busy": "2023-06-29T03:07:38.231473Z",
          "iopub.execute_input": "2023-06-29T03:07:38.231845Z",
          "iopub.status.idle": "2023-06-29T03:07:38.301599Z",
          "shell.execute_reply.started": "2023-06-29T03:07:38.231794Z",
          "shell.execute_reply": "2023-06-29T03:07:38.300688Z"
        },
        "trusted": true,
        "id": "BNjT5_34Pb85",
        "outputId": "27885e26-0f9d-4554-ef34-7d8ae8d981ee"
      },
      "execution_count": null,
      "outputs": [
        {
          "execution_count": 15,
          "output_type": "execute_result",
          "data": {
            "text/plain": "((25465, 182), (25465, 6), (8489, 182), (8489, 6))"
          },
          "metadata": {}
        }
      ]
    },
    {
      "cell_type": "code",
      "source": [
        "# Scaling the data with sklearn's Standard scaler\n",
        "scaler = StandardScaler()\n",
        "x_train = scaler.fit_transform(x_train)\n",
        "x_test = scaler.transform(x_test)"
      ],
      "metadata": {
        "execution": {
          "iopub.status.busy": "2023-06-29T03:07:38.304212Z",
          "iopub.execute_input": "2023-06-29T03:07:38.304578Z",
          "iopub.status.idle": "2023-06-29T03:07:38.378880Z",
          "shell.execute_reply.started": "2023-06-29T03:07:38.304546Z",
          "shell.execute_reply": "2023-06-29T03:07:38.377803Z"
        },
        "trusted": true,
        "id": "m6z2w6k-Pb86"
      },
      "execution_count": null,
      "outputs": []
    },
    {
      "cell_type": "code",
      "source": [
        "from sklearn.neural_network import MLPClassifier\n",
        "mlp = MLPClassifier(hidden_layer_sizes=(256,128,64),learning_rate='adaptive', activation='relu', solver='adam', random_state=42,max_iter=1000)\n",
        "mlp.fit(x_train, y_train)\n",
        "\n",
        "# Predict on the test set\n",
        "y_pred = mlp.predict(x_test)\n"
      ],
      "metadata": {
        "execution": {
          "iopub.status.busy": "2023-06-29T03:07:38.380740Z",
          "iopub.execute_input": "2023-06-29T03:07:38.381141Z",
          "iopub.status.idle": "2023-06-29T03:09:34.489055Z",
          "shell.execute_reply.started": "2023-06-29T03:07:38.381105Z",
          "shell.execute_reply": "2023-06-29T03:09:34.487585Z"
        },
        "trusted": true,
        "id": "18sZGIebPb86"
      },
      "execution_count": null,
      "outputs": []
    },
    {
      "cell_type": "code",
      "source": [
        "from sklearn.metrics import accuracy_score\n",
        "accuracy = accuracy_score(y_test, y_pred)\n",
        "print('Test accuracy:', accuracy)"
      ],
      "metadata": {
        "execution": {
          "iopub.status.busy": "2023-06-29T03:09:34.490584Z",
          "iopub.execute_input": "2023-06-29T03:09:34.491288Z",
          "iopub.status.idle": "2023-06-29T03:09:34.506366Z",
          "shell.execute_reply.started": "2023-06-29T03:09:34.491255Z",
          "shell.execute_reply": "2023-06-29T03:09:34.505324Z"
        },
        "trusted": true,
        "id": "uDiNL0qZPb86",
        "outputId": "a97a4567-73c2-404a-9581-e7e5c00b1cf7"
      },
      "execution_count": null,
      "outputs": [
        {
          "name": "stdout",
          "text": "Test accuracy: 0.67063258334315\n",
          "output_type": "stream"
        }
      ]
    },
    {
      "cell_type": "code",
      "source": [
        "from pickle import dump\n",
        "dump(mlp, open('SER_MLP_04_scaled.pkl', 'wb'))"
      ],
      "metadata": {
        "execution": {
          "iopub.status.busy": "2023-06-29T03:19:31.116828Z",
          "iopub.execute_input": "2023-06-29T03:19:31.117246Z",
          "iopub.status.idle": "2023-06-29T03:19:31.126394Z",
          "shell.execute_reply.started": "2023-06-29T03:19:31.117216Z",
          "shell.execute_reply": "2023-06-29T03:19:31.125320Z"
        },
        "trusted": true,
        "id": "DcEF_un3Pb87"
      },
      "execution_count": null,
      "outputs": []
    }
  ]
}