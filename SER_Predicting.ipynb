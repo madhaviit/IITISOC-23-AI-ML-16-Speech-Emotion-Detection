{
  "nbformat": 4,
  "nbformat_minor": 0,
  "metadata": {
    "colab": {
      "provenance": []
    },
    "kernelspec": {
      "name": "python3",
      "display_name": "Python 3"
    },
    "language_info": {
      "name": "python"
    }
  },
  "cells": [
    {
      "cell_type": "code",
      "source": [
        "import os\n",
        "import pandas as pd\n",
        "import librosa.display\n",
        "from IPython.display import Audio\n",
        "import numpy as np\n",
        "import matplotlib.pyplot as plt\n",
        "from sklearn.preprocessing import StandardScaler\n",
        "import pickle"
      ],
      "metadata": {
        "id": "_p9WrnrKMk-M"
      },
      "execution_count": 37,
      "outputs": []
    },
    {
      "cell_type": "code",
      "source": [
        "def extract_features(y):\n",
        "  result=np.array([])\n",
        "  #mfcc\n",
        "  Mfcc = np.mean(librosa.feature.mfcc(y=y,sr=sr,n_mfcc=40).T,axis=0)\n",
        "  result=np.hstack((result,Mfcc))\n",
        "  #chroma\n",
        "  stft=np.abs(librosa.stft(y))\n",
        "  Chroma=np.mean(librosa.feature.chroma_stft(S=stft,sr=sr).T,axis=0)\n",
        "  result = np.hstack((result,Chroma))\n",
        "  #mel\n",
        "  Mel=np.mean(librosa.feature.melspectrogram(y=y,sr=sr).T,axis=0)\n",
        "  result=np.hstack((result,Mel))\n",
        "  #zcr\n",
        "  Zcr =np.mean(librosa.feature.zero_crossing_rate(y=y).T,axis=0)\n",
        "  result=np.hstack((result,Zcr))\n",
        "  #rms\n",
        "  Rms = np.mean(librosa.feature.rms(y=y).T,axis=0)\n",
        "  result=np.hstack((result,Rms))\n",
        "  return [result]"
      ],
      "metadata": {
        "id": "8gpuJLQQM1Mk"
      },
      "execution_count": 38,
      "outputs": []
    },
    {
      "cell_type": "code",
      "source": [
        "Pkl_Filename = \"/content/model.pkl\" #Your saved pickle\n",
        "\n",
        "with open(Pkl_Filename, 'rb') as file:\n",
        "    Emotion_Voice_Detection_Model = pickle.load(file)"
      ],
      "metadata": {
        "id": "kDbVTXdvLaXk"
      },
      "execution_count": 49,
      "outputs": []
    },
    {
      "cell_type": "code",
      "source": [
        "Filename = '/content/KL_sa06.wav' #Your File\n",
        "y,sr = librosa.load(Filename,duration=3,offset=0.5)\n",
        "x = extract_features(y)"
      ],
      "metadata": {
        "id": "Q4ZeZB0EMTG0"
      },
      "execution_count": 54,
      "outputs": []
    },
    {
      "cell_type": "code",
      "source": [
        "y_pred = Emotion_Voice_Detection_Model.predict((np.array(x)).reshape(1,182))\n",
        "if(y_pred[0][0] == 1):\n",
        "  y_pred=\"ANGRY\"\n",
        "elif(y_pred[0][1] == 1):\n",
        "  y_pred=\"DISGUST\"\n",
        "elif(y_pred[0][2] == 1):\n",
        "  y_pred=\"FEAR\"\n",
        "elif(y_pred[0][3] == 1):\n",
        "  y_pred=\"HAPPY\"\n",
        "elif(y_pred[0][4] == 1):\n",
        "  y_pred=\"NEUTRAL\"\n",
        "elif(y_pred[0][5] == 1):\n",
        "  y_pred=\"SAD\"\n",
        "print(\"The Predicted emotion is : \",y_pred)"
      ],
      "metadata": {
        "id": "5pOejz3LZVZ7"
      },
      "execution_count": null,
      "outputs": []
    }
  ]
}