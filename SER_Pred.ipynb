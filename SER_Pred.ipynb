{
  "nbformat": 4,
  "nbformat_minor": 0,
  "metadata": {
    "colab": {
      "provenance": []
    },
    "kernelspec": {
      "name": "python3",
      "display_name": "Python 3"
    },
    "language_info": {
      "name": "python"
    }
  },
  "cells": [
    {
      "cell_type": "code",
      "source": [
        "import os\n",
        "import pandas as pd\n",
        "import librosa.display\n",
        "from IPython.display import Audio\n",
        "import numpy as np\n",
        "import matplotlib.pyplot as plt\n",
        "from sklearn.preprocessing import StandardScaler\n",
        "import pickle"
      ],
      "metadata": {
        "id": "_BjN0fR1WtYg"
      },
      "execution_count": null,
      "outputs": []
    },
    {
      "cell_type": "code",
      "execution_count": null,
      "metadata": {
        "id": "VDnSTP0lWHIK"
      },
      "outputs": [],
      "source": [
        "from pickle import load\n",
        "model = load(open('SER_MLP_01_scaled.pkl', 'rb'))\n",
        "scaler = load(open('scaler.pkl', 'rb'))\n",
        "extract_features=load(open('extract_features.pkl','rb'))"
      ]
    },
    {
      "cell_type": "code",
      "source": [
        "import librosa\n",
        "\n",
        "filename = '/content/WhatsApp Audio 2023-06-28 at 14.55.15.wav'  # Your File\n",
        "duration = 3  # Desired duration of each segment in seconds\n",
        "\n",
        "# Load the audio file\n",
        "y, sr = librosa.load(filename)\n",
        "\n",
        "# Calculate the total duration of the audio file in seconds\n",
        "total_duration = librosa.get_duration(y=y,sr=sr)\n",
        "\n",
        "# Calculate the number of segments needed\n",
        "num_segments = int(total_duration / duration)\n",
        "\n",
        "# Split the audio file into segments\n",
        "segments = [[],[]]\n",
        "count=[0,0,0,0,0,0]\n",
        "for i in range(num_segments):\n",
        "    start_time = i * duration\n",
        "    end_time = (i + 1) * duration\n",
        "    segment = y[int(start_time * sr):int(end_time * sr)]\n",
        "    x = extract_features(segment)\n",
        "    x = scaler.transform((np.array(x)).reshape(1,182))\n",
        "    y_pred = model.predict(np.array(x))\n",
        "    #print(y_pred)\n",
        "    max_index = np.argmax(y_pred)\n",
        "    acc=y_pred[0][max_index]*100\n",
        "    #y_pred = np.round_(y_pred)\n",
        "    if(max_index == 0):\n",
        "      y_pred=\"ANGRY\"\n",
        "      count[0]=count[0]+1\n",
        "    elif(max_index == 1):\n",
        "      y_pred=\"DISGUST\"\n",
        "      count[1]=count[1]+1\n",
        "    elif(max_index == 2):\n",
        "      y_pred=\"FEAR\"\n",
        "      count[2]=count[2]+1\n",
        "    elif(max_index == 3):\n",
        "      y_pred=\"HAPPY\"\n",
        "      count[3]=count[3]+1\n",
        "    elif(max_index == 4):\n",
        "      y_pred=\"NEUTRAL\"\n",
        "      count[4]=count[4]+1\n",
        "    elif(max_index == 5):\n",
        "      y_pred=\"SAD\"\n",
        "      count[5]=count[5]+1\n",
        "    segments[0].append(y_pred)\n",
        "    segments[1].append(acc)"
      ],
      "metadata": {
        "colab": {
          "base_uri": "https://localhost:8080/"
        },
        "id": "MylrQrh0tZxf",
        "outputId": "f0f8d2d7-18a9-4f7a-a681-ef01cdae485d"
      },
      "execution_count": null,
      "outputs": [
        {
          "output_type": "stream",
          "name": "stdout",
          "text": [
            "1/1 [==============================] - 0s 65ms/step\n"
          ]
        }
      ]
    },
    {
      "cell_type": "code",
      "source": [
        "for i in range(num_segments):\n",
        "    print(i*3,\": 00 -\",(i+1)*3,\": 00  ->\",\"The Predicted emotion is : \",segments[0][i])"
      ],
      "metadata": {
        "colab": {
          "base_uri": "https://localhost:8080/"
        },
        "id": "ZLM2ZgxWJoly",
        "outputId": "2eed5fe7-fcd5-476f-e887-944506eac12f"
      },
      "execution_count": null,
      "outputs": [
        {
          "output_type": "stream",
          "name": "stdout",
          "text": [
            "0 : 00 - 3 : 00  -> The Predicted emotion is :  ANGRY -  59.4559383392334 %\n"
          ]
        }
      ]
    },
    {
      "cell_type": "code",
      "source": [
        "max_emotion=np.argmax(count)\n",
        "if(max_emotion == 0):\n",
        "  em=\"ANGRY\"\n",
        "elif(max_emotion == 1):\n",
        "  em=\"DISGUST\"\n",
        "elif(max_emotion == 2):\n",
        "  em=\"FEAR\"\n",
        "elif(max_emotion == 3):\n",
        "  em=\"HAPPY\"\n",
        "elif(max_emotion == 4):\n",
        "  em=\"NEUTRAL\"\n",
        "elif(max_emotion == 5):\n",
        "  em=\"SAD\"\n",
        "print(\"Overall emotion predicted is\",em)"
      ],
      "metadata": {
        "colab": {
          "base_uri": "https://localhost:8080/"
        },
        "id": "PuXjWCyri0NV",
        "outputId": "87ce0d90-3a75-433a-a8eb-7cc4f6198bfa"
      },
      "execution_count": null,
      "outputs": [
        {
          "output_type": "stream",
          "name": "stdout",
          "text": [
            "Overall emotion predicted is ANGRY - 59.4559383392334 %\n"
          ]
        }
      ]
    },
    {
      "cell_type": "code",
      "source": [
        "#RECORDED USING MICROPHONE:\n",
        "import pyaudio\n",
        "import wave\n",
        "\n",
        "CHUNK = 1024\n",
        "FORMAT = pyaudio.paInt16 #paInt8\n",
        "CHANNELS = 2\n",
        "RATE = 44100 #sample rate\n",
        "RECORD_SECONDS = 4\n",
        "WAVE_OUTPUT_FILENAME = \"output.wav\"\n",
        "\n",
        "p = pyaudio.PyAudio()\n",
        "\n",
        "stream = p.open(format=FORMAT,\n",
        "                channels=CHANNELS,\n",
        "                rate=RATE,\n",
        "                input=True,\n",
        "                frames_per_buffer=CHUNK) #buffer\n",
        "\n",
        "print(\"* recording\")\n",
        "frames = []\n",
        "\n",
        "for i in range(0, int(RATE / CHUNK * RECORD_SECONDS)):\n",
        "    data = stream.read(CHUNK)\n",
        "    frames.append(data) # 2 bytes(16 bits) per channel\n",
        "\n",
        "print(\"* done recording\")\n",
        "\n",
        "stream.stop_stream()\n",
        "stream.close()\n",
        "p.terminate()\n",
        "\n",
        "wf = wave.open(WAVE_OUTPUT_FILENAME, 'wb')\n",
        "wf.setnchannels(CHANNELS)\n",
        "wf.setsampwidth(p.get_sample_size(FORMAT))\n",
        "wf.setframerate(RATE)\n",
        "wf.writeframes(b''.join(frames))\n",
        "wf.close()"
      ],
      "metadata": {
        "id": "TO9SDyarQfeY"
      },
      "execution_count": null,
      "outputs": []
    }
  ]
}